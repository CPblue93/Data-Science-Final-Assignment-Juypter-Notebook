{
 "cells": [
  {
   "cell_type": "markdown",
   "id": "74bf87f5-6f74-45e8-9633-332e460753ef",
   "metadata": {},
   "source": [
    "# Data Science Tools and Ecosystem"
   ]
  },
  {
   "cell_type": "markdown",
   "id": "0617f96b-7b4c-46c6-816e-90ca9a92b372",
   "metadata": {},
   "source": [
    "## Author\n",
    "Christoph"
   ]
  },
  {
   "cell_type": "markdown",
   "id": "0d7789e9-67a2-4a34-b24b-1af54929fcfe",
   "metadata": {},
   "source": [
    "In this notebook, Data Science Tools and Ecosystem are summarized."
   ]
  },
  {
   "cell_type": "markdown",
   "id": "fa690737-054f-4474-a392-ca1d4a3518ad",
   "metadata": {},
   "source": [
    "***Objectives:***\n",
    "- Popular languages for Data Science\n",
    "- Commonly used libraries in Data Science\n",
    "- Data Science Tools"
   ]
  },
  {
   "cell_type": "markdown",
   "id": "58842d83-fcbe-4bba-a3be-ec64bfc55a94",
   "metadata": {},
   "source": [
    "Some of the popular languages that Data Scientists use are:\n",
    "1. Python\n",
    "2. R/R-Studio\n",
    "3. SQL"
   ]
  },
  {
   "cell_type": "markdown",
   "id": "52995b4a-1ba0-4900-a550-51d98b10d1b1",
   "metadata": {},
   "source": [
    "Some of the commonly used libraries used by Data Scientists include:\n",
    "1. Pandas\n",
    "2. NumPy\n",
    "3. Matplotlib"
   ]
  },
  {
   "cell_type": "markdown",
   "id": "39c8ab0e-eadf-4b91-9205-ceca7f68ce3a",
   "metadata": {},
   "source": [
    "| Data Science Tools |\n",
    "| -------------|\n",
    "| Relational databases like MySQL |\n",
    "| GitHub |\n",
    "| Elasticsearch |"
   ]
  },
  {
   "cell_type": "markdown",
   "id": "3ec9bd58-8b55-4280-b1cb-c943a3ada6cf",
   "metadata": {},
   "source": [
    "### Below are a few examples of evaluating arithmetic expressions in Python"
   ]
  },
  {
   "cell_type": "code",
   "execution_count": 4,
   "id": "541d452b-7520-43e4-84fe-5e7a7284079e",
   "metadata": {
    "tags": []
   },
   "outputs": [
    {
     "data": {
      "text/plain": [
       "17"
      ]
     },
     "execution_count": 4,
     "metadata": {},
     "output_type": "execute_result"
    }
   ],
   "source": [
    "# This a simple arithmetic expression to mutiply then add integers\n",
    "(3*4)+5"
   ]
  },
  {
   "cell_type": "code",
   "execution_count": 5,
   "id": "5e24d8a8-a987-425d-ba70-7c97612d5ac0",
   "metadata": {
    "tags": []
   },
   "outputs": [
    {
     "data": {
      "text/plain": [
       "3.3333333333333335"
      ]
     },
     "execution_count": 5,
     "metadata": {},
     "output_type": "execute_result"
    }
   ],
   "source": [
    "# This will convert 200 minutes to hours by diving by 60\n",
    "200/60"
   ]
  }
 ],
 "metadata": {
  "kernelspec": {
   "display_name": "Python",
   "language": "python",
   "name": "conda-env-python-py"
  },
  "language_info": {
   "codemirror_mode": {
    "name": "ipython",
    "version": 3
   },
   "file_extension": ".py",
   "mimetype": "text/x-python",
   "name": "python",
   "nbconvert_exporter": "python",
   "pygments_lexer": "ipython3",
   "version": "3.7.12"
  }
 },
 "nbformat": 4,
 "nbformat_minor": 5
}
